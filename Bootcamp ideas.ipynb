{
 "cells": [
  {
   "cell_type": "markdown",
   "metadata": {},
   "source": [
    "### Concepts covered ###\n",
    "\n",
    "* Data types / type conversion\n",
    "* Output of last line in ipynb\n",
    "* Mods, pemdas\n",
    "\n",
    "### Advanced stuff ###\n",
    "* Sort \n",
    "* np.arange\n",
    "* .item\n",
    "* array arithmetic\n",
    "* abs\n",
    "* round \n",
    "* max, min\n",
    "* np.sum\n",
    "* np.prod\n",
    "* np.diff\n",
    "* np.mean"
   ]
  },
  {
   "cell_type": "markdown",
   "metadata": {},
   "source": [
    "1) Determine the number of elements in the test1 that, when divided by 3, equal the element at the same index in test2."
   ]
  },
  {
   "cell_type": "code",
   "execution_count": 10,
   "metadata": {
    "collapsed": false
   },
   "outputs": [
    {
     "data": {
      "text/plain": [
       "Ellipsis"
      ]
     },
     "execution_count": 10,
     "metadata": {},
     "output_type": "execute_result"
    }
   ],
   "source": [
    "import numpy as np\n",
    "from datascience import *\n",
    "test1 = make_array(7,6,10,15,12,45,3,27,300)\n",
    "test2 = make_array(5,2,13,5,9,18,3,9,3)\n",
    "\n",
    "satisfies_condition = ... #SOLUTION: test1/3 == test2\n",
    "\n",
    "total_elements = ... #SOLUTION: np.count_nonzero(satisfies_condition)\n",
    "total_elements"
   ]
  },
  {
   "cell_type": "code",
   "execution_count": null,
   "metadata": {
    "collapsed": true
   },
   "outputs": [],
   "source": []
  }
 ],
 "metadata": {
  "anaconda-cloud": {},
  "kernelspec": {
   "display_name": "Python [default]",
   "language": "python",
   "name": "python3"
  },
  "language_info": {
   "codemirror_mode": {
    "name": "ipython",
    "version": 3
   },
   "file_extension": ".py",
   "mimetype": "text/x-python",
   "name": "python",
   "nbconvert_exporter": "python",
   "pygments_lexer": "ipython3",
   "version": "3.5.2"
  }
 },
 "nbformat": 4,
 "nbformat_minor": 1
}
