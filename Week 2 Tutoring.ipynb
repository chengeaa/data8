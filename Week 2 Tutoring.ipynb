{
 "cells": [
  {
   "cell_type": "markdown",
   "metadata": {},
   "source": [
    "### Week 2 Tutoring Materials###\n",
    "\n",
    "For this week, the material being covered includes:\n",
    "\n",
    "* Tables (lecture 5)\n",
    "    * Labels\n",
    "    * Columns = vectors\n",
    "    * Rows\n",
    "        * What rows correspond to will likely be a point of confusion\n",
    "    * Data types (float, int, string, bool)\n",
    "    * Functions used in lecture: \n",
    "        * Table()\n",
    "        * .with_column()\n",
    "        * .with_columns()\n",
    "        * make_array()\n",
    "        * .num_columns()\n",
    "        * .num_rows()\n",
    "        * .relabeled()\n",
    "        * .column()\n",
    "        * .item()\n",
    "        * .set_format()\n",
    "        * .select()\n",
    "        * .drop()\n",
    "        * .read_table() (this probably won't be as important to know)\n",
    "        * .sort()\n",
    "        * explaining mutation will probably be necessary to some extent\n",
    "        * explaining function vs method calls will be very important I think\n",
    "* Transformations\n",
    "* Charts\n",
    "\n",
    "\n"
   ]
  },
  {
   "cell_type": "code",
   "execution_count": null,
   "metadata": {
    "collapsed": true
   },
   "outputs": [],
   "source": []
  }
 ],
 "metadata": {
  "anaconda-cloud": {},
  "kernelspec": {
   "display_name": "Python [default]",
   "language": "python",
   "name": "python3"
  },
  "language_info": {
   "codemirror_mode": {
    "name": "ipython",
    "version": 3
   },
   "file_extension": ".py",
   "mimetype": "text/x-python",
   "name": "python",
   "nbconvert_exporter": "python",
   "pygments_lexer": "ipython3",
   "version": "3.5.2"
  }
 },
 "nbformat": 4,
 "nbformat_minor": 1
}
