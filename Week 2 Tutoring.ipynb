{
 "cells": [
  {
   "cell_type": "markdown",
   "metadata": {},
   "source": [
    "### Week 2 Tutoring Materials###\n",
    "\n",
    "For this week, the material being covered includes:\n",
    "\n",
    "* Tables (lecture 5)\n",
    "    * Labels\n",
    "    * Columns = vectors\n",
    "    * Rows\n",
    "        * What rows correspond to will likely be a point of confusion\n",
    "    * Data types (float, int, string, bool)\n",
    "    * Functions used in lecture: \n",
    "        * Table()\n",
    "        * .with_column()\n",
    "        * .with_columns()\n",
    "        * make_array()\n",
    "        * .num_columns()\n",
    "        * .num_rows()\n",
    "        * .relabeled()\n",
    "        * .column()\n",
    "        * .item()\n",
    "        * .set_format()\n",
    "        * .select()\n",
    "        * .drop()\n",
    "        * .read_table() (this probably won't be as important to know)\n",
    "        * .sort()\n",
    "        * explaining mutation will probably be necessary to some extent\n",
    "        * explaining function vs method calls will be very important I think\n",
    "* Transformations\n",
    "* Charts\n",
    "\n",
    "** I think the calendar was edited after I put the above list together. **\n",
    "I'll leave the list up for now though, I suspect many of the concepts introduced above can might still be causing some confusion this week.\n",
    "New list: \n",
    "* Rows\n",
    "* Columns \n",
    "* Charts"
   ]
  },
  {
   "cell_type": "markdown",
   "metadata": {},
   "source": [
    "From data.gov: \n",
    "\n",
    "\n",
    "\"This dataset includes the locations of businesses that pay taxes to the City and County of San Francisco. Each registered business may have multiple locations and each location is a single row. The Treasurer & Tax Collector’s Office collects this data through business registration applications, account update/closure forms, and taxpayer filings. \""
   ]
  },
  {
   "cell_type": "code",
   "execution_count": 18,
   "metadata": {
    "collapsed": false
   },
   "outputs": [],
   "source": [
    "import numpy as np\n",
    "from datascience import *\n",
    "# businesses = Table.read_table(\"businesses.csv\")\n",
    "# businesses"
   ]
  },
  {
   "cell_type": "markdown",
   "metadata": {},
   "source": [
    "I first take a subset of this giant busineses table by choosing 100 random values out of the table so it's easier to work with. The sorting is unnecessary but was helpful debugging. I then group it by name (some businesses are repeated) and aggregate the other rows by min (I needed an predicate that simply preserved at least one of the zip codes). From this table, I take the values I want for this exercise: the name of the business, its source zipcode, and its mail zipcode. "
   ]
  },
  {
   "cell_type": "code",
   "execution_count": 19,
   "metadata": {
    "collapsed": false
   },
   "outputs": [],
   "source": [
    "# subset = businesses.take(np.random.choice(np.arange(0, businesses.num_rows), size = 100, replace = False)).sort(\"DBA Name\")\n",
    "# grouped = subset.group(\"DBA Name\", min)\n",
    "# cleaned = grouped.select(make_array(\"DBA Name\" , \"Source Zipcode min\", \"Mail Zipcode min\")).group(\"DBA Name\", min) \n",
    "# businesses = cleaned"
   ]
  },
  {
   "cell_type": "code",
   "execution_count": 20,
   "metadata": {
    "collapsed": false
   },
   "outputs": [],
   "source": [
    "# businesses.show(50)\n",
    "#businesses.to_csv(\"biz100\")"
   ]
  },
  {
   "cell_type": "code",
   "execution_count": 27,
   "metadata": {
    "collapsed": false
   },
   "outputs": [
    {
     "data": {
      "text/html": [
       "<table border=\"1\" class=\"dataframe\">\n",
       "    <thead>\n",
       "        <tr>\n",
       "            <th>DBA Name</th> <th>Source Zipcode</th> <th>Mail Zipcode</th>\n",
       "        </tr>\n",
       "    </thead>\n",
       "    <tbody>\n",
       "        <tr>\n",
       "            <td>100plus               </td> <td>94102         </td> <td>94131       </td>\n",
       "        </tr>\n",
       "    </tbody>\n",
       "        <tr>\n",
       "            <td>1690 Evans Property   </td> <td>94124         </td> <td>94507       </td>\n",
       "        </tr>\n",
       "    </tbody>\n",
       "        <tr>\n",
       "            <td>2390 43rd Av Apts     </td> <td>94116         </td> <td>94123       </td>\n",
       "        </tr>\n",
       "    </tbody>\n",
       "        <tr>\n",
       "            <td>570 5th Av Apartments </td> <td>94118         </td> <td>94118       </td>\n",
       "        </tr>\n",
       "    </tbody>\n",
       "        <tr>\n",
       "            <td>7-Eleven Store        </td> <td>94134         </td> <td>75221       </td>\n",
       "        </tr>\n",
       "    </tbody>\n",
       "        <tr>\n",
       "            <td>825 Sansome Street Llc</td> <td>94133         </td> <td>94133       </td>\n",
       "        </tr>\n",
       "    </tbody>\n",
       "        <tr>\n",
       "            <td>Addis Limo            </td> <td>94115         </td> <td>94115       </td>\n",
       "        </tr>\n",
       "    </tbody>\n",
       "        <tr>\n",
       "            <td>Alain Pinel Realtors  </td> <td>94123         </td> <td>95070       </td>\n",
       "        </tr>\n",
       "    </tbody>\n",
       "        <tr>\n",
       "            <td>Alive By Shooting     </td> <td>94110         </td> <td>94110       </td>\n",
       "        </tr>\n",
       "    </tbody>\n",
       "        <tr>\n",
       "            <td>Ana V. Duffy          </td> <td>94132         </td> <td>94132       </td>\n",
       "        </tr>\n",
       "    </tbody>\n",
       "</table>\n",
       "<p>... (89 rows omitted)</p"
      ],
      "text/plain": [
       "DBA Name               | Source Zipcode | Mail Zipcode\n",
       "100plus                | 94102          | 94131\n",
       "1690 Evans Property    | 94124          | 94507\n",
       "2390 43rd Av Apts      | 94116          | 94123\n",
       "570 5th Av Apartments  | 94118          | 94118\n",
       "7-Eleven Store         | 94134          | 75221\n",
       "825 Sansome Street Llc | 94133          | 94133\n",
       "Addis Limo             | 94115          | 94115\n",
       "Alain Pinel Realtors   | 94123          | 95070\n",
       "Alive By Shooting      | 94110          | 94110\n",
       "Ana V. Duffy           | 94132          | 94132\n",
       "... (89 rows omitted)"
      ]
     },
     "execution_count": 27,
     "metadata": {},
     "output_type": "execute_result"
    }
   ],
   "source": [
    "businesses = Table.read_table(\"biz100.csv\")#Comment this out, and uncomment the above lines if you want to generate a new dataset.\n",
    "#For the purpose of this exercise, we'll be using the biz100 table I already generated.\n",
    "businesses"
   ]
  },
  {
   "cell_type": "markdown",
   "metadata": {},
   "source": [
    "Let's say I'm interested in the number of businesses in San Francisco BUT aren't in the Marina District, which has a zip code of 94123. We can practice a couple Table methods when trying to answer this question. First, let's generate a table of the businesses that ** are ** in the Marina District."
   ]
  },
  {
   "cell_type": "code",
   "execution_count": 28,
   "metadata": {
    "collapsed": false
   },
   "outputs": [
    {
     "data": {
      "text/html": [
       "<table border=\"1\" class=\"dataframe\">\n",
       "    <thead>\n",
       "        <tr>\n",
       "            <th>DBA Name</th> <th>Source Zipcode</th> <th>Mail Zipcode</th>\n",
       "        </tr>\n",
       "    </thead>\n",
       "    <tbody>\n",
       "        <tr>\n",
       "            <td>Alain Pinel Realtors        </td> <td>94123         </td> <td>95070       </td>\n",
       "        </tr>\n",
       "    </tbody>\n",
       "        <tr>\n",
       "            <td>Blue Sky Window Cleaning    </td> <td>94123         </td> <td>94123       </td>\n",
       "        </tr>\n",
       "    </tbody>\n",
       "        <tr>\n",
       "            <td>Eccogen Card                </td> <td>94123         </td> <td>99999       </td>\n",
       "        </tr>\n",
       "    </tbody>\n",
       "        <tr>\n",
       "            <td>Leonard Assoc Architects Inc</td> <td>94123         </td> <td>94123       </td>\n",
       "        </tr>\n",
       "    </tbody>\n",
       "        <tr>\n",
       "            <td>Lovely Bride                </td> <td>94123         </td> <td>94123       </td>\n",
       "        </tr>\n",
       "    </tbody>\n",
       "</table>"
      ],
      "text/plain": [
       "DBA Name                     | Source Zipcode | Mail Zipcode\n",
       "Alain Pinel Realtors         | 94123          | 95070\n",
       "Blue Sky Window Cleaning     | 94123          | 94123\n",
       "Eccogen Card                 | 94123          | 99999\n",
       "Leonard Assoc Architects Inc | 94123          | 94123\n",
       "Lovely Bride                 | 94123          | 94123"
      ]
     },
     "execution_count": 28,
     "metadata": {},
     "output_type": "execute_result"
    }
   ],
   "source": [
    "businesses_in_marina_dist = businesses.where(\"Source Zipcode\", are.equal_to(94123))\n",
    "businesses_in_marina_dist"
   ]
  },
  {
   "cell_type": "markdown",
   "metadata": {},
   "source": [
    "Now, we can compare the number of rows in our new table to the number of rows in our original table to compute the number of businesses in our sample that aren't in the Marina District."
   ]
  },
  {
   "cell_type": "code",
   "execution_count": 30,
   "metadata": {
    "collapsed": false
   },
   "outputs": [
    {
     "data": {
      "text/plain": [
       "94"
      ]
     },
     "execution_count": 30,
     "metadata": {},
     "output_type": "execute_result"
    }
   ],
   "source": [
    "businesses.num_rows - businesses_in_marina_dist.num_rows"
   ]
  },
  {
   "cell_type": "markdown",
   "metadata": {
    "collapsed": true
   },
   "source": [
    "Now let's say we're interested in the ratio of businesses where their source zipcode doesn't match their mail zipcode. "
   ]
  },
  {
   "cell_type": "code",
   "execution_count": 39,
   "metadata": {
    "collapsed": false
   },
   "outputs": [
    {
     "name": "stdout",
     "output_type": "stream",
     "text": [
      "There were 0.4 in the Marina District vs 0.38 overall.\n"
     ]
    }
   ],
   "source": [
    "#For the Marina District:\n",
    "marina_mismatches = np.count_nonzero(businesses_in_marina_dist[1] != businesses_in_marina_dist[2])\n",
    "marina_ratio  = marina_mismatches/businesses_in_marina_dist.num_rows\n",
    "\n",
    "#Overall\n",
    "mismatches = np.count_nonzero(businesses[1] != businesses[2])\n",
    "total_ratio = mismatches/businesses.num_rows\n",
    "\n",
    "#Round both to  2 for brevity.\n",
    "\n",
    "print(\"There were \" + str(round(marina_ratio,2))+ \" in the Marina District vs \" +str(round(total_ratio,2))+ \" overall.\")"
   ]
  },
  {
   "cell_type": "code",
   "execution_count": null,
   "metadata": {
    "collapsed": true
   },
   "outputs": [],
   "source": []
  }
 ],
 "metadata": {
  "anaconda-cloud": {},
  "kernelspec": {
   "display_name": "Python [default]",
   "language": "python",
   "name": "python3"
  },
  "language_info": {
   "codemirror_mode": {
    "name": "ipython",
    "version": 3
   },
   "file_extension": ".py",
   "mimetype": "text/x-python",
   "name": "python",
   "nbconvert_exporter": "python",
   "pygments_lexer": "ipython3",
   "version": "3.5.2"
  }
 },
 "nbformat": 4,
 "nbformat_minor": 1
}
